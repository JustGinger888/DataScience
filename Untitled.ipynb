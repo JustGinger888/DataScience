{
 "cells": [
  {
   "cell_type": "code",
   "execution_count": 1,
   "id": "c0596952",
   "metadata": {},
   "outputs": [
    {
     "name": "stdout",
     "output_type": "stream",
     "text": [
      "Hello World\n"
     ]
    }
   ],
   "source": [
    "print(\"Hello World\")"
   ]
  },
  {
   "cell_type": "markdown",
   "id": "5ff11ab9",
   "metadata": {},
   "source": [
    "# Data Selection\n",
    "\n",
    "- You need to search for open datasets, \n",
    " - Import some medical data \n",
    " - Manipulate the data by using \n",
    "   - Appropriate visualisation tools \n",
    "   - Or libraries of your choice. \n",
    " - The visualisation of the chosen dataset \n",
    "   - Must be documented with providing rationale behind using either of the tools\n",
    "   - And its relevance in the healthcare sector.\n",
    "- Data.gov.uk"
   ]
  },
  {
   "cell_type": "markdown",
   "id": "f6df0e01",
   "metadata": {},
   "source": [
    "# Data Preparation\n",
    "\n",
    "- Assess the quality of your data using suitable techniques. \n",
    "- Clean the data if and as necessary. \n",
    "- Your report should document and justify any techniques you have utilised \n",
    "  - to assess the quality of the data. \n",
    "  - Your justification must be informed by research."
   ]
  },
  {
   "cell_type": "markdown",
   "id": "19caf69f",
   "metadata": {},
   "source": [
    "# Data Exploration\n",
    "\n",
    "- Utilise suitable data mining tools \n",
    "- and analysis techniques to find \n",
    "  - significant patterns and trends \n",
    "  - SPSS, Excel, Tableau, WEKA, Python libraries, etc \n",
    "- Explain the patterns you have observed."
   ]
  },
  {
   "cell_type": "markdown",
   "id": "00606cfc",
   "metadata": {},
   "source": [
    "# Data Modelling and Visualisation\n",
    "\n",
    "- Use appropriate tools to perform some visualisation on the chosen dataset. \n",
    "- The choice is yours, based on your future intention of work \n",
    "- And also the familiarity of the tool. \n",
    "- Your report should document and justify the techniques you have used to \n",
    "  - Mine and analyse the data \n",
    "  - And the patterns or trends that were discovered. \n",
    "- Finally, construct a model that can make some predictions or forecast trends."
   ]
  },
  {
   "cell_type": "markdown",
   "id": "a41a2036",
   "metadata": {},
   "source": [
    "# Evaluation\n",
    "\n",
    "- Critically evaluate your results \n",
    "- and compare your findings to other similar studies."
   ]
  },
  {
   "cell_type": "code",
   "execution_count": null,
   "id": "5b6f5fb6",
   "metadata": {},
   "outputs": [],
   "source": []
  }
 ],
 "metadata": {
  "kernelspec": {
   "display_name": "Python 3 (ipykernel)",
   "language": "python",
   "name": "python3"
  },
  "language_info": {
   "codemirror_mode": {
    "name": "ipython",
    "version": 3
   },
   "file_extension": ".py",
   "mimetype": "text/x-python",
   "name": "python",
   "nbconvert_exporter": "python",
   "pygments_lexer": "ipython3",
   "version": "3.9.9"
  }
 },
 "nbformat": 4,
 "nbformat_minor": 5
}
