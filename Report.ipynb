{
 "cells": [
  {
   "cell_type": "markdown",
   "id": "eb642ef1",
   "metadata": {},
   "source": [
    "# Data Selection\n",
    "\n",
    "- You need to search for open datasets, \n",
    " - Import some medical data \n",
    " - Manipulate the data by using \n",
    "   - Appropriate visualisation tools \n",
    "   - Or libraries of your choice. \n",
    " - The visualisation of the chosen dataset \n",
    "   - Must be documented with providing rationale behind using either of the tools\n",
    "   - And its relevance in the healthcare sector.\n",
    "- Data.gov.uk"
   ]
  },
  {
   "cell_type": "markdown",
   "id": "f6df0e01",
   "metadata": {},
   "source": [
    "# Data Preparation\n",
    "\n",
    "- Assess the quality of your data using suitable techniques. \n",
    "- Clean the data if and as necessary. \n",
    "- Your report should document and justify any techniques you have utilised \n",
    "  - to assess the quality of the data. \n",
    "  - Your justification must be informed by research."
   ]
  },
  {
   "cell_type": "code",
   "execution_count": 3,
   "id": "80c8a770",
   "metadata": {},
   "outputs": [],
   "source": [
    "import pandas as pd\n",
    "\n",
    "filename = 'Data.xlsx'\n",
    "df = pd.read_excel(filename)"
   ]
  },
  {
   "cell_type": "raw",
   "id": "50670858",
   "metadata": {},
   "source": [
    "df\n"
   ]
  },
  {
   "cell_type": "code",
   "execution_count": 4,
   "id": "be723f91",
   "metadata": {},
   "outputs": [
    {
     "name": "stdout",
     "output_type": "stream",
     "text": [
      "<class 'pandas.core.frame.DataFrame'>\n",
      "RangeIndex: 4030 entries, 0 to 4029\n",
      "Data columns (total 10 columns):\n",
      " #   Column                            Non-Null Count  Dtype         \n",
      "---  ------                            --------------  -----         \n",
      " 0   date                              4030 non-null   datetime64[ns]\n",
      " 1   areaName                          4030 non-null   object        \n",
      " 2   newCasesByPublishDate             3787 non-null   float64       \n",
      " 3   cumCasesByPublishDate             7 non-null      float64       \n",
      " 4   newDeaths28DaysByPublishDate      3035 non-null   float64       \n",
      " 5   cumDeaths28DaysByPublishDate      3055 non-null   float64       \n",
      " 6   cumDeaths28DaysByPublishDateRate  3055 non-null   float64       \n",
      " 7   newDeaths28DaysByDeathDate        4022 non-null   float64       \n",
      " 8   cumDeaths28DaysByDeathDate        4023 non-null   float64       \n",
      " 9   cumDeaths28DaysByDeathDateRate    3988 non-null   float64       \n",
      "dtypes: datetime64[ns](1), float64(8), object(1)\n",
      "memory usage: 315.0+ KB\n"
     ]
    }
   ],
   "source": [
    "df.info()"
   ]
  },
  {
   "cell_type": "code",
   "execution_count": 7,
   "id": "4eddc80d",
   "metadata": {},
   "outputs": [
    {
     "data": {
      "text/html": [
       "<div>\n",
       "<style scoped>\n",
       "    .dataframe tbody tr th:only-of-type {\n",
       "        vertical-align: middle;\n",
       "    }\n",
       "\n",
       "    .dataframe tbody tr th {\n",
       "        vertical-align: top;\n",
       "    }\n",
       "\n",
       "    .dataframe thead th {\n",
       "        text-align: right;\n",
       "    }\n",
       "</style>\n",
       "<table border=\"1\" class=\"dataframe\">\n",
       "  <thead>\n",
       "    <tr style=\"text-align: right;\">\n",
       "      <th></th>\n",
       "      <th>date</th>\n",
       "      <th>areaName</th>\n",
       "      <th>newCasesByPublishDate</th>\n",
       "      <th>newDeaths28DaysByPublishDate</th>\n",
       "    </tr>\n",
       "  </thead>\n",
       "  <tbody>\n",
       "    <tr>\n",
       "      <th>0</th>\n",
       "      <td>2020-03-11</td>\n",
       "      <td>South West</td>\n",
       "      <td>NaN</td>\n",
       "      <td>NaN</td>\n",
       "    </tr>\n",
       "    <tr>\n",
       "      <th>1</th>\n",
       "      <td>2020-03-12</td>\n",
       "      <td>South West</td>\n",
       "      <td>NaN</td>\n",
       "      <td>NaN</td>\n",
       "    </tr>\n",
       "    <tr>\n",
       "      <th>2</th>\n",
       "      <td>2020-03-13</td>\n",
       "      <td>South West</td>\n",
       "      <td>NaN</td>\n",
       "      <td>NaN</td>\n",
       "    </tr>\n",
       "    <tr>\n",
       "      <th>3</th>\n",
       "      <td>2020-03-14</td>\n",
       "      <td>South West</td>\n",
       "      <td>NaN</td>\n",
       "      <td>NaN</td>\n",
       "    </tr>\n",
       "    <tr>\n",
       "      <th>4</th>\n",
       "      <td>2020-03-15</td>\n",
       "      <td>South West</td>\n",
       "      <td>NaN</td>\n",
       "      <td>NaN</td>\n",
       "    </tr>\n",
       "    <tr>\n",
       "      <th>...</th>\n",
       "      <td>...</td>\n",
       "      <td>...</td>\n",
       "      <td>...</td>\n",
       "      <td>...</td>\n",
       "    </tr>\n",
       "    <tr>\n",
       "      <th>4025</th>\n",
       "      <td>2021-12-08</td>\n",
       "      <td>North West</td>\n",
       "      <td>4919.0</td>\n",
       "      <td>19.0</td>\n",
       "    </tr>\n",
       "    <tr>\n",
       "      <th>4026</th>\n",
       "      <td>2021-12-09</td>\n",
       "      <td>North West</td>\n",
       "      <td>4066.0</td>\n",
       "      <td>13.0</td>\n",
       "    </tr>\n",
       "    <tr>\n",
       "      <th>4027</th>\n",
       "      <td>2021-12-10</td>\n",
       "      <td>North West</td>\n",
       "      <td>4886.0</td>\n",
       "      <td>17.0</td>\n",
       "    </tr>\n",
       "    <tr>\n",
       "      <th>4028</th>\n",
       "      <td>2021-12-11</td>\n",
       "      <td>North West</td>\n",
       "      <td>6004.0</td>\n",
       "      <td>19.0</td>\n",
       "    </tr>\n",
       "    <tr>\n",
       "      <th>4029</th>\n",
       "      <td>2021-12-12</td>\n",
       "      <td>North West</td>\n",
       "      <td>4428.0</td>\n",
       "      <td>2.0</td>\n",
       "    </tr>\n",
       "  </tbody>\n",
       "</table>\n",
       "<p>4030 rows × 4 columns</p>\n",
       "</div>"
      ],
      "text/plain": [
       "           date    areaName  newCasesByPublishDate  \\\n",
       "0    2020-03-11  South West                    NaN   \n",
       "1    2020-03-12  South West                    NaN   \n",
       "2    2020-03-13  South West                    NaN   \n",
       "3    2020-03-14  South West                    NaN   \n",
       "4    2020-03-15  South West                    NaN   \n",
       "...         ...         ...                    ...   \n",
       "4025 2021-12-08  North West                 4919.0   \n",
       "4026 2021-12-09  North West                 4066.0   \n",
       "4027 2021-12-10  North West                 4886.0   \n",
       "4028 2021-12-11  North West                 6004.0   \n",
       "4029 2021-12-12  North West                 4428.0   \n",
       "\n",
       "      newDeaths28DaysByPublishDate  \n",
       "0                              NaN  \n",
       "1                              NaN  \n",
       "2                              NaN  \n",
       "3                              NaN  \n",
       "4                              NaN  \n",
       "...                            ...  \n",
       "4025                          19.0  \n",
       "4026                          13.0  \n",
       "4027                          17.0  \n",
       "4028                          19.0  \n",
       "4029                           2.0  \n",
       "\n",
       "[4030 rows x 4 columns]"
      ]
     },
     "execution_count": 7,
     "metadata": {},
     "output_type": "execute_result"
    }
   ],
   "source": [
    "df[['date', 'areaName', 'newCasesByPublishDate','newDeaths28DaysByPublishDate']]\n"
   ]
  },
  {
   "cell_type": "code",
   "execution_count": 8,
   "id": "53003666",
   "metadata": {},
   "outputs": [
    {
     "data": {
      "text/html": [
       "<div>\n",
       "<style scoped>\n",
       "    .dataframe tbody tr th:only-of-type {\n",
       "        vertical-align: middle;\n",
       "    }\n",
       "\n",
       "    .dataframe tbody tr th {\n",
       "        vertical-align: top;\n",
       "    }\n",
       "\n",
       "    .dataframe thead th {\n",
       "        text-align: right;\n",
       "    }\n",
       "</style>\n",
       "<table border=\"1\" class=\"dataframe\">\n",
       "  <thead>\n",
       "    <tr style=\"text-align: right;\">\n",
       "      <th></th>\n",
       "      <th>date</th>\n",
       "      <th>areaName</th>\n",
       "      <th>cumCasesByPublishDate</th>\n",
       "      <th>cumDeaths28DaysByPublishDate</th>\n",
       "      <th>cumDeaths28DaysByPublishDateRate</th>\n",
       "    </tr>\n",
       "  </thead>\n",
       "  <tbody>\n",
       "    <tr>\n",
       "      <th>0</th>\n",
       "      <td>2020-03-11</td>\n",
       "      <td>South West</td>\n",
       "      <td>NaN</td>\n",
       "      <td>NaN</td>\n",
       "      <td>NaN</td>\n",
       "    </tr>\n",
       "    <tr>\n",
       "      <th>1</th>\n",
       "      <td>2020-03-12</td>\n",
       "      <td>South West</td>\n",
       "      <td>NaN</td>\n",
       "      <td>NaN</td>\n",
       "      <td>NaN</td>\n",
       "    </tr>\n",
       "    <tr>\n",
       "      <th>2</th>\n",
       "      <td>2020-03-13</td>\n",
       "      <td>South West</td>\n",
       "      <td>NaN</td>\n",
       "      <td>NaN</td>\n",
       "      <td>NaN</td>\n",
       "    </tr>\n",
       "    <tr>\n",
       "      <th>3</th>\n",
       "      <td>2020-03-14</td>\n",
       "      <td>South West</td>\n",
       "      <td>NaN</td>\n",
       "      <td>NaN</td>\n",
       "      <td>NaN</td>\n",
       "    </tr>\n",
       "    <tr>\n",
       "      <th>4</th>\n",
       "      <td>2020-03-15</td>\n",
       "      <td>South West</td>\n",
       "      <td>NaN</td>\n",
       "      <td>NaN</td>\n",
       "      <td>NaN</td>\n",
       "    </tr>\n",
       "    <tr>\n",
       "      <th>...</th>\n",
       "      <td>...</td>\n",
       "      <td>...</td>\n",
       "      <td>...</td>\n",
       "      <td>...</td>\n",
       "      <td>...</td>\n",
       "    </tr>\n",
       "    <tr>\n",
       "      <th>4025</th>\n",
       "      <td>2021-12-08</td>\n",
       "      <td>North West</td>\n",
       "      <td>NaN</td>\n",
       "      <td>20520.0</td>\n",
       "      <td>278.5</td>\n",
       "    </tr>\n",
       "    <tr>\n",
       "      <th>4026</th>\n",
       "      <td>2021-12-09</td>\n",
       "      <td>North West</td>\n",
       "      <td>NaN</td>\n",
       "      <td>20533.0</td>\n",
       "      <td>278.7</td>\n",
       "    </tr>\n",
       "    <tr>\n",
       "      <th>4027</th>\n",
       "      <td>2021-12-10</td>\n",
       "      <td>North West</td>\n",
       "      <td>NaN</td>\n",
       "      <td>20550.0</td>\n",
       "      <td>278.9</td>\n",
       "    </tr>\n",
       "    <tr>\n",
       "      <th>4028</th>\n",
       "      <td>2021-12-11</td>\n",
       "      <td>North West</td>\n",
       "      <td>NaN</td>\n",
       "      <td>20569.0</td>\n",
       "      <td>279.2</td>\n",
       "    </tr>\n",
       "    <tr>\n",
       "      <th>4029</th>\n",
       "      <td>2021-12-12</td>\n",
       "      <td>North West</td>\n",
       "      <td>1360063.0</td>\n",
       "      <td>20571.0</td>\n",
       "      <td>279.2</td>\n",
       "    </tr>\n",
       "  </tbody>\n",
       "</table>\n",
       "<p>4030 rows × 5 columns</p>\n",
       "</div>"
      ],
      "text/plain": [
       "           date    areaName  cumCasesByPublishDate  \\\n",
       "0    2020-03-11  South West                    NaN   \n",
       "1    2020-03-12  South West                    NaN   \n",
       "2    2020-03-13  South West                    NaN   \n",
       "3    2020-03-14  South West                    NaN   \n",
       "4    2020-03-15  South West                    NaN   \n",
       "...         ...         ...                    ...   \n",
       "4025 2021-12-08  North West                    NaN   \n",
       "4026 2021-12-09  North West                    NaN   \n",
       "4027 2021-12-10  North West                    NaN   \n",
       "4028 2021-12-11  North West                    NaN   \n",
       "4029 2021-12-12  North West              1360063.0   \n",
       "\n",
       "      cumDeaths28DaysByPublishDate  cumDeaths28DaysByPublishDateRate  \n",
       "0                              NaN                               NaN  \n",
       "1                              NaN                               NaN  \n",
       "2                              NaN                               NaN  \n",
       "3                              NaN                               NaN  \n",
       "4                              NaN                               NaN  \n",
       "...                            ...                               ...  \n",
       "4025                       20520.0                             278.5  \n",
       "4026                       20533.0                             278.7  \n",
       "4027                       20550.0                             278.9  \n",
       "4028                       20569.0                             279.2  \n",
       "4029                       20571.0                             279.2  \n",
       "\n",
       "[4030 rows x 5 columns]"
      ]
     },
     "execution_count": 8,
     "metadata": {},
     "output_type": "execute_result"
    }
   ],
   "source": [
    "df[['date', 'areaName', 'cumCasesByPublishDate','cumDeaths28DaysByPublishDate','cumDeaths28DaysByPublishDateRate']]\n"
   ]
  },
  {
   "cell_type": "code",
   "execution_count": 9,
   "id": "c6084d3b",
   "metadata": {
    "scrolled": true
   },
   "outputs": [
    {
     "data": {
      "text/plain": [
       "East of England             651\n",
       "East Midlands               650\n",
       "North West                  645\n",
       "London                      644\n",
       "South West                  642\n",
       "Yorkshire and The Humber    641\n",
       "South East                  157\n",
       "Name: areaName, dtype: int64"
      ]
     },
     "execution_count": 9,
     "metadata": {},
     "output_type": "execute_result"
    }
   ],
   "source": [
    "df['areaName'].value_counts()"
   ]
  },
  {
   "cell_type": "code",
   "execution_count": 28,
   "id": "722394ba",
   "metadata": {},
   "outputs": [
    {
     "data": {
      "text/plain": [
       "642   2021-07-09\n",
       "Name: date, dtype: datetime64[ns]"
      ]
     },
     "execution_count": 28,
     "metadata": {},
     "output_type": "execute_result"
    }
   ],
   "source": [
    "# South East first entry date\n",
    "southEast = df['areaName']=='South East'\n",
    "df[southEast]['date'].head(1)\n"
   ]
  },
  {
   "cell_type": "code",
   "execution_count": 10,
   "id": "09dd77e8",
   "metadata": {},
   "outputs": [
    {
     "data": {
      "text/html": [
       "<div>\n",
       "<style scoped>\n",
       "    .dataframe tbody tr th:only-of-type {\n",
       "        vertical-align: middle;\n",
       "    }\n",
       "\n",
       "    .dataframe tbody tr th {\n",
       "        vertical-align: top;\n",
       "    }\n",
       "\n",
       "    .dataframe thead th {\n",
       "        text-align: right;\n",
       "    }\n",
       "</style>\n",
       "<table border=\"1\" class=\"dataframe\">\n",
       "  <thead>\n",
       "    <tr style=\"text-align: right;\">\n",
       "      <th></th>\n",
       "      <th>date</th>\n",
       "      <th>areaName</th>\n",
       "      <th>cumCasesByPublishDate</th>\n",
       "      <th>cumDeaths28DaysByPublishDate</th>\n",
       "      <th>cumDeaths28DaysByPublishDateRate</th>\n",
       "    </tr>\n",
       "  </thead>\n",
       "  <tbody>\n",
       "    <tr>\n",
       "      <th>2743</th>\n",
       "      <td>2021-12-12</td>\n",
       "      <td>East Midlands</td>\n",
       "      <td>813192.0</td>\n",
       "      <td>11607.0</td>\n",
       "      <td>238.6</td>\n",
       "    </tr>\n",
       "    <tr>\n",
       "      <th>2093</th>\n",
       "      <td>2021-12-12</td>\n",
       "      <td>East of England</td>\n",
       "      <td>942726.0</td>\n",
       "      <td>14795.0</td>\n",
       "      <td>236.0</td>\n",
       "    </tr>\n",
       "    <tr>\n",
       "      <th>1442</th>\n",
       "      <td>2021-12-12</td>\n",
       "      <td>London</td>\n",
       "      <td>1381289.0</td>\n",
       "      <td>17183.0</td>\n",
       "      <td>190.9</td>\n",
       "    </tr>\n",
       "    <tr>\n",
       "      <th>4029</th>\n",
       "      <td>2021-12-12</td>\n",
       "      <td>North West</td>\n",
       "      <td>1360063.0</td>\n",
       "      <td>20571.0</td>\n",
       "      <td>279.2</td>\n",
       "    </tr>\n",
       "    <tr>\n",
       "      <th>798</th>\n",
       "      <td>2021-12-12</td>\n",
       "      <td>South East</td>\n",
       "      <td>1387313.0</td>\n",
       "      <td>18927.0</td>\n",
       "      <td>205.3</td>\n",
       "    </tr>\n",
       "    <tr>\n",
       "      <th>641</th>\n",
       "      <td>2021-12-12</td>\n",
       "      <td>South West</td>\n",
       "      <td>797168.0</td>\n",
       "      <td>8100.0</td>\n",
       "      <td>143.1</td>\n",
       "    </tr>\n",
       "    <tr>\n",
       "      <th>3384</th>\n",
       "      <td>2021-12-12</td>\n",
       "      <td>Yorkshire and The Humber</td>\n",
       "      <td>954088.0</td>\n",
       "      <td>12990.0</td>\n",
       "      <td>235.1</td>\n",
       "    </tr>\n",
       "  </tbody>\n",
       "</table>\n",
       "</div>"
      ],
      "text/plain": [
       "           date                  areaName  cumCasesByPublishDate  \\\n",
       "2743 2021-12-12             East Midlands               813192.0   \n",
       "2093 2021-12-12           East of England               942726.0   \n",
       "1442 2021-12-12                    London              1381289.0   \n",
       "4029 2021-12-12                North West              1360063.0   \n",
       "798  2021-12-12                South East              1387313.0   \n",
       "641  2021-12-12                South West               797168.0   \n",
       "3384 2021-12-12  Yorkshire and The Humber               954088.0   \n",
       "\n",
       "      cumDeaths28DaysByPublishDate  cumDeaths28DaysByPublishDateRate  \n",
       "2743                       11607.0                             238.6  \n",
       "2093                       14795.0                             236.0  \n",
       "1442                       17183.0                             190.9  \n",
       "4029                       20571.0                             279.2  \n",
       "798                        18927.0                             205.3  \n",
       "641                         8100.0                             143.1  \n",
       "3384                       12990.0                             235.1  "
      ]
     },
     "execution_count": 10,
     "metadata": {},
     "output_type": "execute_result"
    }
   ],
   "source": [
    "# Cumulative data as stated by record\n",
    "\n",
    "dateFilter = df['date']=='2021-12-12'\n",
    "cumData = df[dateFilter][['date', 'areaName', 'cumCasesByPublishDate','cumDeaths28DaysByPublishDate','cumDeaths28DaysByPublishDateRate']]\n",
    "cumData.sort_values(by=['areaName'])\n"
   ]
  },
  {
   "cell_type": "code",
   "execution_count": 18,
   "id": "1e775796",
   "metadata": {
    "scrolled": true
   },
   "outputs": [
    {
     "name": "stdout",
     "output_type": "stream",
     "text": [
      "EM : 809272.0\n",
      "EOE: 938353.0\n",
      "L  : 1362773.0\n",
      "NW : 1349027.0\n",
      "SE : 794223.0\n",
      "SW : 794315.0\n",
      "YH : 948471.0\n",
      "Total: 6996434.0\n"
     ]
    }
   ],
   "source": [
    "# Cumulative as calculated by Sum 2020-2021\n",
    "\n",
    "filterEOE = df['areaName']=='East of England'\n",
    "filterEM = df['areaName']=='East Midlands'\n",
    "filterNW = df['areaName']=='North West'\n",
    "filterL = df['areaName']=='London'\n",
    "filterSW = df['areaName']=='South West'\n",
    "filterYH = df['areaName']=='Yorkshire and The Humber'\n",
    "filterSE = df['areaName']=='South East'\n",
    "\n",
    "EM = df[filterEM]['newCasesByPublishDate']\n",
    "EOE = df[filterEOE]['newCasesByPublishDate']\n",
    "L = df[filterL]['newCasesByPublishDate']\n",
    "NW = df[filterNW]['newCasesByPublishDate']\n",
    "SE = df[filterSE]['newCasesByPublishDate']\n",
    "SW = df[filterSW]['newCasesByPublishDate']\n",
    "YH = df[filterYH]['newCasesByPublishDate']\n",
    "Total = df['newCasesByPublishDate']\n",
    "\n",
    "print('EM :', EM.sum())\n",
    "print('EOE:', EOE.sum())\n",
    "print('L  :', L.sum())\n",
    "print('NW :', NW.sum())\n",
    "\n",
    "# Differant due to missing records comparatively - Exclude\n",
    "print('SE :', SE.sum())\n",
    "print('SW :', SW.sum())\n",
    "print('YH :', YH.sum())\n",
    "print('Total:', Total.sum())"
   ]
  },
  {
   "cell_type": "code",
   "execution_count": 35,
   "id": "8d8fead3",
   "metadata": {},
   "outputs": [
    {
     "name": "stdout",
     "output_type": "stream",
     "text": [
      "EM : 628323.0\n",
      "EOE: 751307.0\n",
      "L  : 1012336.0\n",
      "NW : 992673.0\n",
      "SW : 683773.0\n",
      "YH : 698333.0\n",
      "Total: 5560968.0\n"
     ]
    }
   ],
   "source": [
    "# Cumulative as calculated by Sum 2021\n",
    "dateFilter = df['date']>='2021-01-01'\n",
    "\n",
    "print('EM :', EM[dateFilter].sum())\n",
    "print('EOE:', EOE[dateFilter].sum())\n",
    "print('L  :', L[dateFilter].sum())\n",
    "print('NW :', NW[dateFilter].sum())\n",
    "# Excluded South East - print('SE :', SE[dateFilter].sum())\n",
    "print('SW :', SW[dateFilter].sum())\n",
    "print('YH :', YH[dateFilter].sum())\n",
    "print('Total:', Total[dateFilter].sum())\n"
   ]
  },
  {
   "cell_type": "code",
   "execution_count": 36,
   "id": "e92f7a1a",
   "metadata": {},
   "outputs": [
    {
     "name": "stdout",
     "output_type": "stream",
     "text": [
      "<class 'pandas.core.frame.DataFrame'>\n",
      "Int64Index: 2233 entries, 296 to 4029\n",
      "Data columns (total 10 columns):\n",
      " #   Column                            Non-Null Count  Dtype         \n",
      "---  ------                            --------------  -----         \n",
      " 0   date                              2233 non-null   datetime64[ns]\n",
      " 1   areaName                          2233 non-null   object        \n",
      " 2   newCasesByPublishDate             2233 non-null   float64       \n",
      " 3   cumCasesByPublishDate             7 non-null      float64       \n",
      " 4   newDeaths28DaysByPublishDate      2233 non-null   float64       \n",
      " 5   cumDeaths28DaysByPublishDate      2233 non-null   float64       \n",
      " 6   cumDeaths28DaysByPublishDateRate  2233 non-null   float64       \n",
      " 7   newDeaths28DaysByDeathDate        2225 non-null   float64       \n",
      " 8   cumDeaths28DaysByDeathDate        2226 non-null   float64       \n",
      " 9   cumDeaths28DaysByDeathDateRate    2226 non-null   float64       \n",
      "dtypes: datetime64[ns](1), float64(8), object(1)\n",
      "memory usage: 191.9+ KB\n"
     ]
    }
   ],
   "source": [
    "# Entries 2021 info\n",
    "\n",
    "dateFilter = df['date']>='2021-01-01'\n",
    "cumData = df[dateFilter]\n",
    "cumData.info()\n"
   ]
  },
  {
   "cell_type": "code",
   "execution_count": 45,
   "id": "79283773",
   "metadata": {},
   "outputs": [
    {
     "name": "stdout",
     "output_type": "stream",
     "text": [
      "<class 'pandas.core.frame.DataFrame'>\n",
      "Int64Index: 2233 entries, 296 to 4029\n",
      "Data columns (total 7 columns):\n",
      " #   Column                            Non-Null Count  Dtype         \n",
      "---  ------                            --------------  -----         \n",
      " 0   date                              2233 non-null   datetime64[ns]\n",
      " 1   areaName                          2233 non-null   object        \n",
      " 2   newCasesByPublishDate             2233 non-null   float64       \n",
      " 3   cumCasesByPublishDate             7 non-null      float64       \n",
      " 4   newDeaths28DaysByPublishDate      2233 non-null   float64       \n",
      " 5   cumDeaths28DaysByPublishDate      2233 non-null   float64       \n",
      " 6   cumDeaths28DaysByPublishDateRate  2233 non-null   float64       \n",
      "dtypes: datetime64[ns](1), float64(5), object(1)\n",
      "memory usage: 139.6+ KB\n"
     ]
    }
   ],
   "source": [
    "# Deleteing col newDeaths28DaysByDeathDate, cumDeaths28DaysByDeathDate, cumDeaths28DaysByDeathDateRate\n",
    "\n",
    "# df=df.drop(columns=['newDeaths28DaysByDeathDate','cumDeaths28DaysByDeathDate','cumDeaths28DaysByDeathDateRate'])\n",
    "dateFilter = df['date']>='2021-01-01'\n",
    "cumData = df[dateFilter]\n",
    "cumData.info()\n"
   ]
  },
  {
   "cell_type": "code",
   "execution_count": 47,
   "id": "920562ae",
   "metadata": {},
   "outputs": [
    {
     "data": {
      "text/plain": [
       "array([[Timestamp('2021-01-01 00:00:00'), 'South West', 2104.0, ...,\n",
       "        30.0, 3422.0, 60.5],\n",
       "       [Timestamp('2021-01-02 00:00:00'), 'South West', 3093.0, ...,\n",
       "        13.0, 3435.0, 60.7],\n",
       "       [Timestamp('2021-01-03 00:00:00'), 'South West', 2337.0, ...,\n",
       "        21.0, 3456.0, 61.1],\n",
       "       ...,\n",
       "       [Timestamp('2021-12-10 00:00:00'), 'North West', 4886.0, ...,\n",
       "        17.0, 20550.0, 278.9],\n",
       "       [Timestamp('2021-12-11 00:00:00'), 'North West', 6004.0, ...,\n",
       "        19.0, 20569.0, 279.2],\n",
       "       [Timestamp('2021-12-12 00:00:00'), 'North West', 4428.0, ..., 2.0,\n",
       "        20571.0, 279.2]], dtype=object)"
      ]
     },
     "execution_count": 47,
     "metadata": {},
     "output_type": "execute_result"
    }
   ],
   "source": [
    "# Creating NumPy Array as some libraries prefer it\n",
    "dateFilter = df['date']>='2021-01-01'\n",
    "cumData = df[dateFilter]\n",
    "cumData.values"
   ]
  },
  {
   "cell_type": "code",
   "execution_count": null,
   "id": "b3c5644a",
   "metadata": {},
   "outputs": [],
   "source": [
    "df.to_excel()"
   ]
  },
  {
   "cell_type": "markdown",
   "id": "19caf69f",
   "metadata": {},
   "source": [
    "# Data Exploration\n",
    "\n",
    "- Utilise suitable data mining tools \n",
    "- and analysis techniques to find \n",
    "  - significant patterns and trends \n",
    "  - SPSS, Excel, Tableau, WEKA, Python libraries, etc \n",
    "- Explain the patterns you have observed."
   ]
  },
  {
   "cell_type": "markdown",
   "id": "00606cfc",
   "metadata": {},
   "source": [
    "# Data Modelling and Visualisation\n",
    "\n",
    "- Use appropriate tools to perform some visualisation on the chosen dataset. \n",
    "- The choice is yours, based on your future intention of work \n",
    "- And also the familiarity of the tool. \n",
    "- Your report should document and justify the techniques you have used to \n",
    "  - Mine and analyse the data \n",
    "  - And the patterns or trends that were discovered. \n",
    "- Finally, construct a model that can make some predictions or forecast trends."
   ]
  },
  {
   "cell_type": "markdown",
   "id": "a41a2036",
   "metadata": {},
   "source": [
    "# Evaluation\n",
    "\n",
    "- Critically evaluate your results \n",
    "- and compare your findings to other similar studies."
   ]
  },
  {
   "cell_type": "code",
   "execution_count": null,
   "id": "5b6f5fb6",
   "metadata": {},
   "outputs": [],
   "source": []
  },
  {
   "cell_type": "code",
   "execution_count": null,
   "id": "c0a045c1",
   "metadata": {},
   "outputs": [],
   "source": []
  }
 ],
 "metadata": {
  "kernelspec": {
   "display_name": "Python 3 (ipykernel)",
   "language": "python",
   "name": "python3"
  },
  "language_info": {
   "codemirror_mode": {
    "name": "ipython",
    "version": 3
   },
   "file_extension": ".py",
   "mimetype": "text/x-python",
   "name": "python",
   "nbconvert_exporter": "python",
   "pygments_lexer": "ipython3",
   "version": "3.9.9"
  }
 },
 "nbformat": 4,
 "nbformat_minor": 5
}
